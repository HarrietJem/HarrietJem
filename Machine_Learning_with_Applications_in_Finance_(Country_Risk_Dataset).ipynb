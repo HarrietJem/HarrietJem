{
  "nbformat": 4,
  "nbformat_minor": 0,
  "metadata": {
    "colab": {
      "provenance": [],
      "include_colab_link": true
    },
    "kernelspec": {
      "name": "python3",
      "display_name": "Python 3"
    },
    "language_info": {
      "name": "python"
    }
  },
  "cells": [
    {
      "cell_type": "markdown",
      "metadata": {
        "id": "view-in-github",
        "colab_type": "text"
      },
      "source": [
        "<a href=\"https://colab.research.google.com/github/HarrietJem/HarrietJem/blob/main/Machine_Learning_with_Applications_in_Finance_(Country_Risk_Dataset).ipynb\" target=\"_parent\"><img src=\"https://colab.research.google.com/assets/colab-badge.svg\" alt=\"Open In Colab\"/></a>"
      ]
    },
    {
      "cell_type": "markdown",
      "source": [
        "Consider the problem of understanding the risk of countries for foreign investment. Among the features that can be used for this are: The real GDP growth rate, a corruption index, a peace index, and a legal index. Values for each of these features is provided in the data file Country_Risk.csv.\n",
        "\n",
        "\n",
        "\n",
        "The real GDP growth rate (%) is typically a positive or negative number with a magnitude less than 10.\n",
        "\n",
        "The corruption index is on a scale from 0 (highly corrupt) to 100 (no corruption).\n",
        "\n",
        "The peace index is on a scale from 1 (very peaceful) to 5 (not at all peaceful).\n",
        "\n",
        "The legal risk index runs from 0 to 10 (with high values being favorable).\n"
      ],
      "metadata": {
        "id": "7oNyySkgNUMN"
      }
    },
    {
      "cell_type": "code",
      "source": [
        "import numpy as np\n",
        "import pandas as pd\n",
        "import matplotlib.pyplot as plt\n",
        "import seaborn as sns"
      ],
      "metadata": {
        "id": "qrbFhLzrU16b"
      },
      "execution_count": 1,
      "outputs": []
    },
    {
      "cell_type": "markdown",
      "source": [
        "1. Obtain the summary statistics as well as the correlation matrix of the features. Comment on your results (3 Marks)"
      ],
      "metadata": {
        "id": "nap2rR5UU6Nj"
      }
    },
    {
      "cell_type": "code",
      "source": [
        "df = pd.read_csv(\"/content/country_risk.csv\")"
      ],
      "metadata": {
        "id": "Ev92vsZ9QhQ7"
      },
      "execution_count": 6,
      "outputs": []
    },
    {
      "cell_type": "code",
      "source": [
        "from google.colab import drive\n",
        "drive.mount('/content/drive')"
      ],
      "metadata": {
        "colab": {
          "base_uri": "https://localhost:8080/"
        },
        "id": "zlm9PpiFnJ2z",
        "outputId": "65255781-51dd-447f-8689-91f36c60fa0d"
      },
      "execution_count": 7,
      "outputs": [
        {
          "output_type": "stream",
          "name": "stdout",
          "text": [
            "Mounted at /content/drive\n"
          ]
        }
      ]
    },
    {
      "cell_type": "code",
      "source": [
        "print(df)"
      ],
      "metadata": {
        "colab": {
          "base_uri": "https://localhost:8080/"
        },
        "id": "QbDsHNb6THmi",
        "outputId": "b01c1829-2a0f-4440-a00d-a680eabba02a"
      },
      "execution_count": 8,
      "outputs": [
        {
          "output_type": "stream",
          "name": "stdout",
          "text": [
            "       Country  Corruption  Peace  Legal  GDP Growth\n",
            "0      Albania          39  1.867  3.822       3.403\n",
            "1      Algeria          34  2.213  4.160       4.202\n",
            "2    Argentina          36  1.957  4.568      -2.298\n",
            "3      Armenia          33  2.218  4.126       0.208\n",
            "4    Australia          79  1.465  8.244       2.471\n",
            "..         ...         ...    ...    ...         ...\n",
            "117  Venezuela          17  2.651  3.000     -18.000\n",
            "118    Vietnam          33  1.906  4.930       6.211\n",
            "119      Yemen          14  3.399  2.728      -9.779\n",
            "120     Zambia          38  1.783  4.917       2.967\n",
            "121   Zimbabwe          22  2.322  3.760       0.522\n",
            "\n",
            "[122 rows x 5 columns]\n"
          ]
        }
      ]
    },
    {
      "cell_type": "code",
      "source": [
        "# Summary statistics\n",
        "summary_stats = df.describe()\n",
        "print(\"Summary Statistics:\\n\", summary_stats)"
      ],
      "metadata": {
        "colab": {
          "base_uri": "https://localhost:8080/"
        },
        "id": "eBBUqARIk7cB",
        "outputId": "3b9630d1-5ab5-458f-e7b2-c53d1cde3dd9"
      },
      "execution_count": 9,
      "outputs": [
        {
          "output_type": "stream",
          "name": "stdout",
          "text": [
            "Summary Statistics:\n",
            "        Corruption       Peace       Legal  GDP Growth\n",
            "count  122.000000  122.000000  122.000000  122.000000\n",
            "mean    46.237705    2.003730    5.598861    2.372566\n",
            "std     19.126397    0.447826    1.487328    3.241424\n",
            "min     14.000000    1.192000    2.728000  -18.000000\n",
            "25%     31.250000    1.684750    4.571750    1.432250\n",
            "50%     40.000000    1.969000    5.274000    2.496000\n",
            "75%     58.750000    2.280500    6.476750    4.080000\n",
            "max     90.000000    3.399000    8.633000    7.958000\n"
          ]
        }
      ]
    },
    {
      "cell_type": "code",
      "source": [
        "numerical_columns = ['Corruption', 'Peace', 'Legal', 'GDP Growth']\n",
        "\n",
        "# Ensure numerical columns are properly converted\n",
        "df[numerical_columns] = df[numerical_columns].apply(pd.to_numeric, errors='coerce')\n",
        "\n",
        "# Summary statistics\n",
        "summary_stats = df[numerical_columns].describe()\n",
        "\n",
        "# Correlation matrix\n",
        "correlation_matrix = df[numerical_columns].corr()\n",
        "\n",
        "# Print results\n",
        "print(\"Summary Statistics:\")\n",
        "print(summary_stats)\n",
        "print(\"\\nCorrelation Matrix:\")\n",
        "print(correlation_matrix)"
      ],
      "metadata": {
        "colab": {
          "base_uri": "https://localhost:8080/"
        },
        "id": "lIyLDpvyrNc6",
        "outputId": "ae104bb1-f01b-4fcf-d3ab-2ca1a2e4e0a4"
      },
      "execution_count": 10,
      "outputs": [
        {
          "output_type": "stream",
          "name": "stdout",
          "text": [
            "Summary Statistics:\n",
            "       Corruption       Peace       Legal  GDP Growth\n",
            "count  122.000000  122.000000  122.000000  122.000000\n",
            "mean    46.237705    2.003730    5.598861    2.372566\n",
            "std     19.126397    0.447826    1.487328    3.241424\n",
            "min     14.000000    1.192000    2.728000  -18.000000\n",
            "25%     31.250000    1.684750    4.571750    1.432250\n",
            "50%     40.000000    1.969000    5.274000    2.496000\n",
            "75%     58.750000    2.280500    6.476750    4.080000\n",
            "max     90.000000    3.399000    8.633000    7.958000\n",
            "\n",
            "Correlation Matrix:\n",
            "            Corruption     Peace     Legal  GDP Growth\n",
            "Corruption    1.000000 -0.700477  0.923589    0.102513\n",
            "Peace        -0.700477  1.000000 -0.651961   -0.199855\n",
            "Legal         0.923589 -0.651961  1.000000    0.123440\n",
            "GDP Growth    0.102513 -0.199855  0.123440    1.000000\n"
          ]
        }
      ]
    },
    {
      "cell_type": "markdown",
      "source": [
        "**Summary statistics**\n",
        "\n",
        "1. Corruption - The average corruption index is approximately 46.24, with a minimum value of 14 and a maximum of 90. This range indicates that while some nations experience significant levels of corruption, others display relatively low corruption. The standard deviation of 19.13 reflects a moderate variation in corruption levels among different countries.\n",
        "\n",
        "2. Peace - The peace index has an average score of 2.00, with values ranging from 1.19 to 3.40. A lower score signifies a more peaceful nation, and most countries are positioned towards the more peaceful end of the spectrum, as indicated by the mean being close to 2.\n",
        "\n",
        "3. Legal - The average legal index is 5.60, with values ranging from 2.73 to 8.63. This suggests that most countries experience a relatively positive legal environment, as the values tend to cluster toward the higher end of the scale.\n",
        "\n",
        "4. GDP Growth - The average GDP growth rate is recorded at 2.37%, with a range from a low of -18% to a high of 7.96%. The considerable standard deviation of 3.24 highlights significant variability in economic growth rates across different countries.\n",
        "\n",
        "\n"
      ],
      "metadata": {
        "id": "p96_zA9IVIaE"
      }
    },
    {
      "cell_type": "markdown",
      "source": [
        "**Correlation Matrix**\n",
        "\n",
        "1. Corruption vs Peace: There is a strong negative correlation of -0.70, indicating that countries with higher levels of corruption tend to be less peaceful.  \n",
        "2. Corruption vs Legal: A strong positive correlation of 0.92 suggests that nations with lower corruption levels are generally associated with more favorable legal conditions.\n",
        "3. Corruption vs GDP Growth: A weak positive correlation of 0.10 implies that there is no significant relationship between corruption and economic growth.  \n",
        "4. Peace vs Legal: A moderate negative correlation of -0.65 indicates that nations with lower levels of peace tend to have less favorable legal environments.\n",
        "5. Peace vs GDP Growth: A weak negative correlation of -0.20 suggests that there is not a strong relationship between peace and GDP growth.\n",
        "6. Legal vs GDP Growth: A weak positive correlation of 0.12 indicates that legal factors have a minimal impact on GDP growth."
      ],
      "metadata": {
        "id": "QXOF7tBIXAtm"
      }
    },
    {
      "cell_type": "markdown",
      "source": [
        "2.   Create a Pandas data frame of the dataset and then apply a standard scaler to the  four features: Corruption, Peace, Legal, and GDP Growth.\n",
        "\n"
      ],
      "metadata": {
        "id": "0eAgzRUnL4ew"
      }
    },
    {
      "cell_type": "code",
      "source": [
        "from sklearn.preprocessing import StandardScaler\n",
        "\n",
        "# Selecting the relevant columns for scaling\n",
        "features = df[['Corruption', 'Peace', 'Legal', 'GDP Growth']]\n",
        "\n",
        "# Applying Standard Scaler\n",
        "scaler = StandardScaler()\n",
        "scaled_features = scaler.fit_transform(features)\n",
        "\n",
        "# Creating a new DataFrame with the scaled features\n",
        "scaled_df = pd.DataFrame(scaled_features, columns=['Corruption', 'Peace', 'Legal', 'GDP Growth'])\n",
        "\n",
        "# Print scaled data\n",
        "print(scaled_df.head())"
      ],
      "metadata": {
        "colab": {
          "base_uri": "https://localhost:8080/"
        },
        "id": "ya2rFL-NWzHH",
        "outputId": "49e07998-697e-4a09-8e16-c01f438ebf43"
      },
      "execution_count": 11,
      "outputs": [
        {
          "output_type": "stream",
          "name": "stdout",
          "text": [
            "   Corruption     Peace     Legal  GDP Growth\n",
            "0   -0.379975 -0.306578 -1.199593    0.319207\n",
            "1   -0.642472  0.469231 -0.971402    0.566720\n",
            "2   -0.537473 -0.104778 -0.695954   -1.446841\n",
            "3   -0.694971  0.480442 -0.994356   -0.670536\n",
            "4    1.720000 -1.207951  1.785784    0.030493\n"
          ]
        }
      ]
    },
    {
      "cell_type": "markdown",
      "source": [
        "The data has been standardized using the StandardScaler. The features Corruption,  Peace, Legal, and GDP Growth now have a mean of 0 and a standard deviation of 1.\n"
      ],
      "metadata": {
        "id": "dClb6a7lY3XI"
      }
    },
    {
      "cell_type": "markdown",
      "source": [
        "3.  Use Principal Components Analysis (PCA) to reduce the number of features from 4 to  2\n",
        "\n"
      ],
      "metadata": {
        "id": "8SjZCMZ3MIel"
      }
    },
    {
      "cell_type": "markdown",
      "source": [
        "The Principal Component Analysis (PCA) has successfully reduced the features from  4 to 2 principal components. The resulting components are"
      ],
      "metadata": {
        "id": "MhWPwk9HbjA1"
      }
    },
    {
      "cell_type": "code",
      "source": [
        "from sklearn.decomposition import PCA\n",
        "\n",
        "# Applying PCA to reduce the number of features from 4 to 2\n",
        "pca = PCA(n_components=2)\n",
        "pca_result = pca.fit_transform(scaled_df)\n",
        "\n",
        "# Creating a DataFrame to hold the PCA result\n",
        "pca_df = pd.DataFrame(pca_result, columns=['PC1', 'PC2'])\n",
        "\n",
        "# Print PCA result\n",
        "print(pca_df.head())"
      ],
      "metadata": {
        "id": "_8f62B14WzUT",
        "colab": {
          "base_uri": "https://localhost:8080/"
        },
        "outputId": "4b1a79d0-b530-4428-d860-6e15c6dc611f"
      },
      "execution_count": 12,
      "outputs": [
        {
          "output_type": "stream",
          "name": "stdout",
          "text": [
            "        PC1       PC2\n",
            "0 -0.716025  0.544752\n",
            "1 -1.112074  0.765880\n",
            "2 -0.892470 -1.233581\n",
            "3 -1.352130 -0.433201\n",
            "4  2.711955 -0.429230\n"
          ]
        }
      ]
    },
    {
      "cell_type": "markdown",
      "source": [
        "These two principal components (PC1 and PC2) now capture most of the variance in the original data, enabling dimensionality reduction while preserving the most essential information."
      ],
      "metadata": {
        "id": "a-7Vau4ubmNS"
      }
    },
    {
      "cell_type": "markdown",
      "source": [
        "4.  Build a K-Means algorithm with an optimal K (use elbow approach), train it on PCA\n",
        "and make predictions\n",
        "\n",
        "\n"
      ],
      "metadata": {
        "id": "ZI-y7C4IMhIV"
      }
    },
    {
      "cell_type": "markdown",
      "source": [
        "The elbow method indicates that the optimal number of clusters (K) is 2, as there is a noticeable \"elbow\" at K=2, where the inertia begins to decrease at a slower rate. When applying K-Means clustering with K set to 2, training it on the PCA data and making predictions yields the following results,\n"
      ],
      "metadata": {
        "id": "yFRkqJ94eOyJ"
      }
    },
    {
      "cell_type": "code",
      "source": [
        "import matplotlib.pyplot as plt\n",
        "from sklearn.cluster import KMeans\n",
        "\n",
        "# Elbow method to find the optimal K\n",
        "inertia = []\n",
        "for k in range(1, 11):\n",
        "    kmeans = KMeans(n_clusters=k, random_state=42)\n",
        "    kmeans.fit(pca_df)\n",
        "    inertia.append(kmeans.inertia_)\n",
        "\n",
        "# Plotting the inertia to visualize the elbow\n",
        "plt.figure(figsize=(8, 6))\n",
        "plt.plot(range(1, 11), inertia, marker='o')\n",
        "plt.title('Elbow Method for Optimal K')\n",
        "plt.xlabel('Number of Clusters (K)')\n",
        "plt.ylabel('Inertia')\n",
        "plt.show()\n",
        "\n",
        "# Applying K-Means with K=2\n",
        "kmeans = KMeans(n_clusters=2, random_state=42)\n",
        "kmeans.fit(pca_df)\n",
        "\n",
        "# Predicting the clusters\n",
        "pca_df['Cluster'] = kmeans.predict(pca_df)\n",
        "\n",
        "# Print clustering result\n",
        "print(pca_df.head())"
      ],
      "metadata": {
        "colab": {
          "base_uri": "https://localhost:8080/",
          "height": 671
        },
        "id": "0GCiFTz0ejNJ",
        "outputId": "60c623a9-5482-4391-f9c0-20123e7569be"
      },
      "execution_count": 13,
      "outputs": [
        {
          "output_type": "display_data",
          "data": {
            "text/plain": [
              "<Figure size 800x600 with 1 Axes>"
            ],
            "image/png": "[encoded data removed]"
          },
          "metadata": {}
        },
        {
          "output_type": "stream",
          "name": "stdout",
          "text": [
            "        PC1       PC2  Cluster\n",
            "0 -0.716025  0.544752        1\n",
            "1 -1.112074  0.765880        1\n",
            "2 -0.892470 -1.233581        1\n",
            "3 -1.352130 -0.433201        1\n",
            "4  2.711955 -0.429230        0\n"
          ]
        }
      ]
    },
    {
      "cell_type": "markdown",
      "source": [
        "The countries have been organized into two clusters based on the principal components derived from PCA. Cluster 0 and Cluster 1 represent distinct groupings of countries according to their characteristics of corruption, peace, legal environment, and GDP growth."
      ],
      "metadata": {
        "id": "sHorJKxAej-r"
      }
    }
  ]
}